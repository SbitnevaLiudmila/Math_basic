{
 "cells": [
  {
   "cell_type": "code",
   "execution_count": 1,
   "metadata": {},
   "outputs": [],
   "source": [
    "import numpy as np\n",
    "import matplotlib.pyplot as plt"
   ]
  },
  {
   "cell_type": "code",
   "execution_count": 2,
   "metadata": {},
   "outputs": [
    {
     "data": {
      "text/plain": [
       "array([-9.2       ,  0.9       ,  6.46666667])"
      ]
     },
     "execution_count": 2,
     "metadata": {},
     "output_type": "execute_result"
    }
   ],
   "source": [
    "# 1. решить линейную систему\n",
    "A = np.array([[1,2,3], [4,0,6], [7,8,9]])\n",
    "B = np.array([12,2,1])\n",
    "np.linalg.solve(A, B)"
   ]
  },
  {
   "cell_type": "code",
   "execution_count": 3,
   "metadata": {},
   "outputs": [
    {
     "name": "stdout",
     "output_type": "stream",
     "text": [
      "[[-0.8         0.1         0.2       ]\n",
      " [ 0.1        -0.2         0.1       ]\n",
      " [ 0.53333333  0.1        -0.13333333]]\n",
      "det = 59.999999999999986\n"
     ]
    },
    {
     "data": {
      "text/plain": [
       "array([-9.2       ,  0.9       ,  6.46666667])"
      ]
     },
     "execution_count": 3,
     "metadata": {},
     "output_type": "execute_result"
    }
   ],
   "source": [
    "A1 = np.linalg.inv(A)\n",
    "print(A1)\n",
    "print(\"det =\", np.linalg.det(A))\n",
    "np.dot(A1, B)"
   ]
  },
  {
   "cell_type": "markdown",
   "metadata": {},
   "source": [
    "**2. Найдите псевдорешение:**\n",
    "\n",
    "x + 2y – z = 1\n",
    "\n",
    "3x – 4y = 7\n",
    "\n",
    "8x – 5y + 2z = 12\n",
    "\n",
    "2x – 5z = 7\n",
    "\n",
    "11x +4y – 7z = 15\n"
   ]
  },
  {
   "cell_type": "code",
   "execution_count": 4,
   "metadata": {},
   "outputs": [
    {
     "name": "stderr",
     "output_type": "stream",
     "text": [
      "/opt/anaconda3/lib/python3.7/site-packages/ipykernel_launcher.py:3: FutureWarning: `rcond` parameter will change to the default of machine precision times ``max(M, N)`` where M and N are the input matrix dimensions.\n",
      "To use the future default and silence this warning we advise to pass `rcond=None`, to keep using the old, explicitly pass `rcond=-1`.\n",
      "  This is separate from the ipykernel package so we can avoid doing imports until\n"
     ]
    },
    {
     "data": {
      "text/plain": [
       "(array([ 1.15601029, -0.889718  , -0.85029782]),\n",
       " array([0.66772534]),\n",
       " 3,\n",
       " array([14.89650167, 10.4695886 ,  2.73531577]))"
      ]
     },
     "execution_count": 4,
     "metadata": {},
     "output_type": "execute_result"
    }
   ],
   "source": [
    "A = np.array([[1, 2, -1], [3, -4, 0], [8, -5, 2], [2, -5, 0], [11, 4, -7]])\n",
    "B = np.array([1, 7, 12, 7, 15])\n",
    "np.linalg.lstsq(A, B)"
   ]
  },
  {
   "cell_type": "code",
   "execution_count": 5,
   "metadata": {},
   "outputs": [
    {
     "data": {
      "text/plain": [
       "array([-0.77312789,  0.02690287, -0.00392332, -0.23938942,  0.10932593])"
      ]
     },
     "execution_count": 5,
     "metadata": {},
     "output_type": "execute_result"
    }
   ],
   "source": [
    "np.dot(A, [ 1.15601029, -0.889718  , -0.85029782]) - B"
   ]
  },
  {
   "cell_type": "code",
   "execution_count": 7,
   "metadata": {},
   "outputs": [
    {
     "data": {
      "text/plain": [
       "0.6677253445282131"
      ]
     },
     "execution_count": 7,
     "metadata": {},
     "output_type": "execute_result"
    }
   ],
   "source": [
    "def Q(x, y, z):\n",
    "    return ((np.linalg.norm(np.dot(A, [x,  y, z]) - B))**2)\n",
    "Q(1.15601029, -0.889718  , -0.85029782)"
   ]
  },
  {
   "cell_type": "markdown",
   "metadata": {},
   "source": [
    "**3. Сколько решений имеет линейная система:**\n",
    "\n",
    "\n",
    "Если ноль – то измените вектор правой части так, чтобы система стала совместной, и решите ее. \n"
   ]
  },
  {
   "cell_type": "code",
   "execution_count": 26,
   "metadata": {},
   "outputs": [
    {
     "name": "stdout",
     "output_type": "stream",
     "text": [
      "[[ 1  2  3 12]\n",
      " [ 4  5  6  2]\n",
      " [ 7  8  9  1]]\n",
      "ранг А = 2, ранг С = 3\n"
     ]
    }
   ],
   "source": [
    "A = np.array([[1, 2, 3], [4, 5, 6], [7, 8, 9]])\n",
    "B = np.array([[12, 2, 1]])\n",
    "\n",
    "# Если ранг исходной матрицы меньше ранга расширенной матрицы, то нет ни одного решения\n",
    "# При равных рангах система имеет решения:\n",
    "# Ранг равен числу неизвестных - единственное решение\n",
    "# Ранг меньше числа неизвестных - бесконечное множество решений \n",
    "\n",
    "# проверим ранги\n",
    "\n",
    "C = np.concatenate((A,B.T), axis=1)\n",
    "print (C)\n",
    "print(f'ранг А = {np.linalg.matrix_rank(A, 0.0001)}, ранг С = {np.linalg.matrix_rank(C, 0.0001)}')"
   ]
  },
  {
   "cell_type": "code",
   "execution_count": 40,
   "metadata": {},
   "outputs": [
    {
     "name": "stdout",
     "output_type": "stream",
     "text": [
      "[[ 1  2  3  1]\n",
      " [ 4  5  6  0]\n",
      " [ 7  8  9 -1]]\n",
      "ранг А = 2, ранг С = 2\n"
     ]
    }
   ],
   "source": [
    "# ситсема не имеет решения, меняем вектор правой части\n",
    "A = np.array([[1, 2, 3], [4, 5, 6], [7, 8, 9]])\n",
    "B_new = np.array([[1, 0, -1]])\n",
    "\n",
    "C = np.concatenate((A,B_new.T), axis=1)\n",
    "print (C)\n",
    "print(f'ранг А = {np.linalg.matrix_rank(A, 0.0001)}, ранг С = {np.linalg.matrix_rank(C, 0.0001)}')"
   ]
  },
  {
   "cell_type": "markdown",
   "metadata": {},
   "source": [
    "При равных рангах система имеет решения. Бесконечное множество решений, если ранг меньше числа неизвестных - здесь как раз ранг =2, а кол-во неизвестных = 3.\n",
    "Решаем на листочке, получаем решение в виде множества векторов x = -5/3 + z , y = 4/3 - 2z , где z принимает произвольные значения.\n",
    "\n",
    "еще можно найти нормальное псевдорешение"
   ]
  },
  {
   "cell_type": "code",
   "execution_count": 42,
   "metadata": {},
   "outputs": [
    {
     "name": "stderr",
     "output_type": "stream",
     "text": [
      "/opt/anaconda3/lib/python3.7/site-packages/ipykernel_launcher.py:5: FutureWarning: `rcond` parameter will change to the default of machine precision times ``max(M, N)`` where M and N are the input matrix dimensions.\n",
      "To use the future default and silence this warning we advise to pass `rcond=None`, to keep using the old, explicitly pass `rcond=-1`.\n",
      "  \"\"\"\n"
     ]
    },
    {
     "data": {
      "text/plain": [
       "(array([-0.94444444, -0.11111111,  0.72222222]),\n",
       " array([], dtype=float64),\n",
       " 2,\n",
       " array([1.68481034e+01, 1.06836951e+00, 3.33475287e-16]))"
      ]
     },
     "execution_count": 42,
     "metadata": {},
     "output_type": "execute_result"
    }
   ],
   "source": [
    "# найдем нормальное псевдорешение\n",
    "A = np.array([[1, 2, 3], [4, 5, 6], [7, 8, 9]])\n",
    "B_new = np.array([1, 0, -1])\n",
    "\n",
    "np.linalg.lstsq(A, B_new)"
   ]
  },
  {
   "cell_type": "code",
   "execution_count": 43,
   "metadata": {},
   "outputs": [
    {
     "data": {
      "text/plain": [
       "(1.194121398382122, 13.038404788163314)"
      ]
     },
     "execution_count": 43,
     "metadata": {},
     "output_type": "execute_result"
    }
   ],
   "source": [
    "# можно найти нотму X и норму вектора невязки\n",
    "X = np.array([-0.94444444, -0.11111111,  0.72222222])\n",
    "np.linalg.norm(X),  np.linalg.norm(np.dot(A, X) - B)     "
   ]
  },
  {
   "cell_type": "markdown",
   "metadata": {},
   "source": [
    "4. Вычислите LU-разложение матрицы:\n",
    "\n",
    "После этого придумайте вектор правых частей и решите полученную линейную систему трех уравнений с данной матрицей.\n"
   ]
  },
  {
   "cell_type": "code",
   "execution_count": 67,
   "metadata": {},
   "outputs": [],
   "source": [
    "import numpy as np \n",
    "import matplotlib.pyplot as plt\n",
    "import scipy \n",
    "import scipy.linalg  "
   ]
  },
  {
   "cell_type": "code",
   "execution_count": 70,
   "metadata": {},
   "outputs": [
    {
     "data": {
      "text/plain": [
       "432.00000000000017"
      ]
     },
     "execution_count": 70,
     "metadata": {},
     "output_type": "execute_result"
    }
   ],
   "source": [
    "A = np.array([[1, 2,  3],\n",
    "              [2, 16, 21],\n",
    "              [4, 28, 73]], float)\n",
    "np.linalg.det(A)"
   ]
  },
  {
   "cell_type": "code",
   "execution_count": 71,
   "metadata": {},
   "outputs": [
    {
     "name": "stdout",
     "output_type": "stream",
     "text": [
      "[[0. 1. 0.]\n",
      " [0. 0. 1.]\n",
      " [1. 0. 0.]]\n",
      "[[ 1.    0.    0.  ]\n",
      " [ 0.25  1.    0.  ]\n",
      " [ 0.5  -0.4   1.  ]]\n",
      "[[  4.    28.    73.  ]\n",
      " [  0.    -5.   -15.25]\n",
      " [  0.     0.   -21.6 ]]\n",
      "[[0. 0. 0.]\n",
      " [0. 0. 0.]\n",
      " [0. 0. 0.]]\n"
     ]
    }
   ],
   "source": [
    "P, L, U = scipy.linalg.lu(A)\n",
    "\n",
    "print(P)\n",
    "print(L)\n",
    "print(U)\n",
    "\n",
    "print(np.dot(P.transpose(), A) - np.dot(L, U)) # проверка - разложение верно"
   ]
  },
  {
   "cell_type": "code",
   "execution_count": 73,
   "metadata": {},
   "outputs": [
    {
     "data": {
      "text/plain": [
       "array([ 7.61574074, -0.46064815,  0.10185185])"
      ]
     },
     "execution_count": 73,
     "metadata": {},
     "output_type": "execute_result"
    }
   ],
   "source": [
    "B = np.array([7, 10, 25])\n",
    "np.linalg.solve(A, B)"
   ]
  },
  {
   "cell_type": "markdown",
   "metadata": {},
   "source": [
    "5. Найдите нормальное псевдорешение недоопределенной системы:\n",
    "x + 2y – z = 1\n",
    "8x – 5y + 2z = 12\n",
    "\n",
    "Для этого определите функцию Q(x,y,z), равную норме решения, и найдите ее минимум. "
   ]
  },
  {
   "cell_type": "code",
   "execution_count": 1,
   "metadata": {},
   "outputs": [],
   "source": [
    "import numpy as np\n",
    "import matplotlib.pyplot as plt"
   ]
  },
  {
   "cell_type": "code",
   "execution_count": 22,
   "metadata": {},
   "outputs": [
    {
     "data": {
      "image/png": "[encoded data removed]",
      "text/plain": [
       "<Figure size 432x288 with 1 Axes>"
      ]
     },
     "metadata": {
      "needs_background": "light"
     },
     "output_type": "display_data"
    }
   ],
   "source": [
    "def Q(x, y, z):\n",
    "    return (x**2 + y**2 + z**2)\n",
    "\n",
    "x = np.linspace(0, 2.5, 501)\n",
    "# выражаем y и z через x и вставляем в график функции Q\n",
    "plt.plot(x, Q(x, 10*x - 14, 21*x - 29))\n",
    "plt.xlabel('x')\n",
    "plt.ylabel('Q')\n",
    "plt.grid(True)\n",
    "plt.ylim(-1, 20)\n",
    "plt.xlim(0.5, 2)\n",
    "plt.show()\n",
    "# видим точку, максимально приближенную к оси х, x = примерно 1.38"
   ]
  },
  {
   "cell_type": "code",
   "execution_count": 23,
   "metadata": {},
   "outputs": [
    {
     "name": "stderr",
     "output_type": "stream",
     "text": [
      "/opt/anaconda3/lib/python3.7/site-packages/ipykernel_launcher.py:4: FutureWarning: `rcond` parameter will change to the default of machine precision times ``max(M, N)`` where M and N are the input matrix dimensions.\n",
      "To use the future default and silence this warning we advise to pass `rcond=None`, to keep using the old, explicitly pass `rcond=-1`.\n",
      "  after removing the cwd from sys.path.\n"
     ]
    },
    {
     "data": {
      "text/plain": [
       "(array([ 1.38191882, -0.18081181,  0.0202952 ]),\n",
       " array([], dtype=float64),\n",
       " 2,\n",
       " array([9.65316119, 2.41173777]))"
      ]
     },
     "execution_count": 23,
     "metadata": {},
     "output_type": "execute_result"
    }
   ],
   "source": [
    "# посчитаем Нормальное псевдорешение\n",
    "A = np.array([[1, 2, -1], [8,-5,2]])\n",
    "B = np.array([1,12])\n",
    "np.linalg.lstsq(A, B)"
   ]
  },
  {
   "cell_type": "markdown",
   "metadata": {},
   "source": [
    "6. Найдите одно из псевдорешений вырожденной системы:\n",
    "\n",
    "Попробуйте также отыскать и нормальное псевдорешение.\n"
   ]
  },
  {
   "cell_type": "code",
   "execution_count": 32,
   "metadata": {},
   "outputs": [
    {
     "name": "stdout",
     "output_type": "stream",
     "text": [
      "2 3\n"
     ]
    }
   ],
   "source": [
    "A = np.array([ [1, 2, 3], [4, 5, 6], [7, 8, 9] ])\n",
    "B = np.array([2, 5, 11])\n",
    "C = np.array([[1, 2, 3, 2],\n",
    "              [4, 5, 6, 5],\n",
    "              [7, 8, 9, 11]])\n",
    "print(np.linalg.matrix_rank(A, 0.0001), np.linalg.matrix_rank(C, 0.0001))"
   ]
  },
  {
   "cell_type": "code",
   "execution_count": null,
   "metadata": {},
   "outputs": [],
   "source": [
    "система имеет бесконечное множество решений"
   ]
  },
  {
   "cell_type": "code",
   "execution_count": 24,
   "metadata": {},
   "outputs": [
    {
     "name": "stdout",
     "output_type": "stream",
     "text": [
      "[[1 2 3]\n",
      " [4 5 6]\n",
      " [7 8 9]]\n",
      "[[-0.12309149  0.90453403  0.40824829]\n",
      " [-0.49236596  0.30151134 -0.81649658]\n",
      " [-0.86164044 -0.30151134  0.40824829]]\n",
      "[[-8.12403840e+00 -9.60113630e+00 -1.10782342e+01]\n",
      " [ 0.00000000e+00  9.04534034e-01  1.80906807e+00]\n",
      " [ 0.00000000e+00  0.00000000e+00 -1.11164740e-15]]\n"
     ]
    }
   ],
   "source": [
    "Q, R = np.linalg.qr(A)\n",
    "\n",
    "print(A)\n",
    "print(Q)\n",
    "print(R)"
   ]
  },
  {
   "cell_type": "code",
   "execution_count": 25,
   "metadata": {},
   "outputs": [
    {
     "name": "stdout",
     "output_type": "stream",
     "text": [
      "[[1. 2. 3.]\n",
      " [4. 5. 6.]\n",
      " [7. 8. 9.]]\n",
      "[[ 1.00000000e+00 -5.26517217e-16 -2.55176183e-16]\n",
      " [-5.26517217e-16  1.00000000e+00  3.37757775e-16]\n",
      " [-2.55176183e-16  3.37757775e-16  1.00000000e+00]]\n"
     ]
    }
   ],
   "source": [
    "print(np.dot(Q, R))\n",
    "print(np.dot(np.transpose(Q), Q))"
   ]
  },
  {
   "cell_type": "code",
   "execution_count": 26,
   "metadata": {},
   "outputs": [
    {
     "data": {
      "text/plain": [
       "array([[-8.1240384 , -9.6011363 ],\n",
       "       [ 0.        ,  0.90453403]])"
      ]
     },
     "execution_count": 26,
     "metadata": {},
     "output_type": "execute_result"
    }
   ],
   "source": [
    "R1 = R[:2, :2]\n",
    "R1"
   ]
  },
  {
   "cell_type": "code",
   "execution_count": 27,
   "metadata": {},
   "outputs": [
    {
     "data": {
      "text/plain": [
       "array([-1.21860576e+01,  8.54871729e-15])"
      ]
     },
     "execution_count": 27,
     "metadata": {},
     "output_type": "execute_result"
    }
   ],
   "source": [
    "B1 = np.dot(np.transpose(Q), B)[:2]\n",
    "B1"
   ]
  },
  {
   "cell_type": "code",
   "execution_count": 28,
   "metadata": {},
   "outputs": [
    {
     "data": {
      "text/plain": [
       "array([1.50000000e+00, 9.45096256e-15])"
      ]
     },
     "execution_count": 28,
     "metadata": {},
     "output_type": "execute_result"
    }
   ],
   "source": [
    "X1 = np.linalg.solve(R1, B1)\n",
    "X1"
   ]
  },
  {
   "cell_type": "code",
   "execution_count": 29,
   "metadata": {},
   "outputs": [
    {
     "name": "stdout",
     "output_type": "stream",
     "text": [
      "[1.50000000e+00 9.45096256e-15 0.00000000e+00]\n"
     ]
    },
    {
     "data": {
      "text/plain": [
       "1.4999999999999893"
      ]
     },
     "execution_count": 29,
     "metadata": {},
     "output_type": "execute_result"
    }
   ],
   "source": [
    "X = np.append(X1, 0)\n",
    "print (X)\n",
    "np.linalg.norm(X)"
   ]
  },
  {
   "cell_type": "code",
   "execution_count": 30,
   "metadata": {},
   "outputs": [
    {
     "data": {
      "text/plain": [
       "1.2247448713915885"
      ]
     },
     "execution_count": 30,
     "metadata": {},
     "output_type": "execute_result"
    }
   ],
   "source": [
    "np.linalg.norm(np.dot(A, X) - B)"
   ]
  },
  {
   "cell_type": "code",
   "execution_count": 39,
   "metadata": {},
   "outputs": [
    {
     "name": "stderr",
     "output_type": "stream",
     "text": [
      "/opt/anaconda3/lib/python3.7/site-packages/ipykernel_launcher.py:2: FutureWarning: `rcond` parameter will change to the default of machine precision times ``max(M, N)`` where M and N are the input matrix dimensions.\n",
      "To use the future default and silence this warning we advise to pass `rcond=None`, to keep using the old, explicitly pass `rcond=-1`.\n",
      "  \n"
     ]
    },
    {
     "data": {
      "text/plain": [
       "(array([ 1.25,  0.5 , -0.25]),\n",
       " array([], dtype=float64),\n",
       " 2,\n",
       " array([1.68481034e+01, 1.06836951e+00, 3.33475287e-16]))"
      ]
     },
     "execution_count": 39,
     "metadata": {},
     "output_type": "execute_result"
    }
   ],
   "source": [
    "# найдем нормальное псевдорешение методом наименьших квадратов python\n",
    "np.linalg.lstsq(A, B)"
   ]
  },
  {
   "cell_type": "code",
   "execution_count": 34,
   "metadata": {},
   "outputs": [
    {
     "data": {
      "text/plain": [
       "(1.3693063937629153, 1.224744871391589)"
      ]
     },
     "execution_count": 34,
     "metadata": {},
     "output_type": "execute_result"
    }
   ],
   "source": [
    "X = np.array([1.25,  0.5 , -0.25])\n",
    "np.linalg.norm(X),  np.linalg.norm(np.dot(A, X) - B)     "
   ]
  },
  {
   "cell_type": "code",
   "execution_count": 36,
   "metadata": {},
   "outputs": [],
   "source": [
    "# решение: (1.25,  0.5 , -0.25)"
   ]
  }
 ],
 "metadata": {
  "kernelspec": {
   "display_name": "Python 3",
   "language": "python",
   "name": "python3"
  },
  "language_info": {
   "codemirror_mode": {
    "name": "ipython",
    "version": 3
   },
   "file_extension": ".py",
   "mimetype": "text/x-python",
   "name": "python",
   "nbconvert_exporter": "python",
   "pygments_lexer": "ipython3",
   "version": "3.7.6"
  }
 },
 "nbformat": 4,
 "nbformat_minor": 4
}
